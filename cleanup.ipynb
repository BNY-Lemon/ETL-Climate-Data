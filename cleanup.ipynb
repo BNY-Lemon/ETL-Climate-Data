{
 "cells": [
  {
   "cell_type": "code",
   "execution_count": 1,
   "metadata": {},
   "outputs": [],
   "source": [
    "# Dependencies and Setup\n",
    "import pandas as pd\n",
    "import numpy as np\n",
    "import datetime as dt"
   ]
  },
  {
   "cell_type": "code",
   "execution_count": 2,
   "metadata": {},
   "outputs": [],
   "source": [
    "# Import raw data\n",
    "global_temp_data = pd.read_csv(\"Raw Data/GlobalTemperatures.csv\")\n",
    "global_temp_country = pd.read_csv(\"Raw Data/GlobalLandTemperaturesByCountry.csv\")\n",
    "co2_emissions_data = pd.read_csv(\"Raw Data/co2_emission.csv\")\n",
    "global_temp_major_city = pd.read_csv(\"Raw Data/GlobalLandTemperaturesByMajorCity.csv\")\n",
    "global_temp_state = pd.read_csv(\"Raw Data/GlobalLandTemperaturesByState.csv\")\n",
    "us_disaster_data = pd.read_csv(\"Raw Data/us_disaster_declarations.csv\")"
   ]
  },
  {
   "cell_type": "code",
   "execution_count": 3,
   "metadata": {},
   "outputs": [],
   "source": [
    "# Import of pre-cleaned data\n",
    "co2_emissions_data_clean = pd.read_csv(\"Cleaned Data/cleaned_co2_emission.csv\")\n",
    "global_temp_data_clean = pd.read_csv(\"Cleaned Data/cleaned_GlobalTemperatures.csv\")\n",
    "us_disaster_data_clean = pd.read_csv(\"Cleaned Data/cleaned_us_disaster_declarations.csv\")\n"
   ]
  },
  {
   "cell_type": "code",
   "execution_count": 4,
   "metadata": {},
   "outputs": [],
   "source": [
    "# Create pandas dataframes\n",
    "global_temp_df = pd.DataFrame(global_temp_data_clean)\n",
    "co2_emissions_df = pd.DataFrame(co2_emissions_data_clean)\n",
    "us_disaster_df = pd.DataFrame(us_disaster_data_clean)\n",
    "\n",
    "# Date range to use: 1953-2015"
   ]
  },
  {
   "cell_type": "code",
   "execution_count": 9,
   "metadata": {},
   "outputs": [],
   "source": [
    "# Explore global temp data and clean/add as necesary\n",
    "min_year = global_temp_df[\"year\"].max()\n",
    "temp_filtered_df = global_temp_df[(global_temp_df['year'] >= 1953) & (global_temp_df['year'] <= 2015)]\n",
    "temp_cleaned_df = temp_filtered_df[['year','LandAndOceanAverageTemperature']]\n",
    "temp_gp = temp_cleaned_df.groupby(\"year\").mean()\n",
    "temp_df = temp_gp"
   ]
  },
  {
   "cell_type": "code",
   "execution_count": 8,
   "metadata": {},
   "outputs": [
    {
     "output_type": "execute_result",
     "data": {
      "text/plain": [
       "      CO2_Emissions_MT\n",
       "year                  \n",
       "1953        105.821009\n",
       "1954        107.817526\n",
       "1955        114.516686\n",
       "1956        121.058732\n",
       "1957        122.532814"
      ],
      "text/html": "<div>\n<style scoped>\n    .dataframe tbody tr th:only-of-type {\n        vertical-align: middle;\n    }\n\n    .dataframe tbody tr th {\n        vertical-align: top;\n    }\n\n    .dataframe thead th {\n        text-align: right;\n    }\n</style>\n<table border=\"1\" class=\"dataframe\">\n  <thead>\n    <tr style=\"text-align: right;\">\n      <th></th>\n      <th>CO2_Emissions_MT</th>\n    </tr>\n    <tr>\n      <th>year</th>\n      <th></th>\n    </tr>\n  </thead>\n  <tbody>\n    <tr>\n      <th>1953</th>\n      <td>105.821009</td>\n    </tr>\n    <tr>\n      <th>1954</th>\n      <td>107.817526</td>\n    </tr>\n    <tr>\n      <th>1955</th>\n      <td>114.516686</td>\n    </tr>\n    <tr>\n      <th>1956</th>\n      <td>121.058732</td>\n    </tr>\n    <tr>\n      <th>1957</th>\n      <td>122.532814</td>\n    </tr>\n  </tbody>\n</table>\n</div>"
     },
     "metadata": {},
     "execution_count": 8
    }
   ],
   "source": [
    "# Explore co2 data and clean/add as necesary\n",
    "co2_emissions_df[\"Year\"].min()\n",
    "co2_filtered_df = co2_emissions_df[(co2_emissions_df['Year'] >= 1953) & (co2_emissions_df['Year'] <= 2015)]\n",
    "co2_filtered_df\n",
    "co2_cleaned_df = co2_filtered_df[['Year','Annual CO2 Emissions (Tonnes)']]\n",
    "co2_cleaned_df = co2_cleaned_df.rename(columns={\"Year\":\"year\"})\n",
    "co2_gp = co2_cleaned_df.groupby('year').mean()\n",
    "conversion = 1000000\n",
    "co2_gp = co2_gp[\"Annual CO2 Emissions (Tonnes)\"]/conversion\n",
    "co2_df = pd.DataFrame(co2_gp)\n",
    "co2_df = co2_df.rename(columns={\"Annual CO2 Emissions (Tonnes)\": \"CO2_Emissions_MT\"})\n",
    "co2_df.head()"
   ]
  },
  {
   "cell_type": "code",
   "execution_count": 11,
   "metadata": {},
   "outputs": [
    {
     "output_type": "execute_result",
     "data": {
      "text/plain": [
       "      incident_type\n",
       "year               \n",
       "1953             12\n",
       "1954             15\n",
       "1955             16\n",
       "1956             15\n",
       "1957             15"
      ],
      "text/html": "<div>\n<style scoped>\n    .dataframe tbody tr th:only-of-type {\n        vertical-align: middle;\n    }\n\n    .dataframe tbody tr th {\n        vertical-align: top;\n    }\n\n    .dataframe thead th {\n        text-align: right;\n    }\n</style>\n<table border=\"1\" class=\"dataframe\">\n  <thead>\n    <tr style=\"text-align: right;\">\n      <th></th>\n      <th>incident_type</th>\n    </tr>\n    <tr>\n      <th>year</th>\n      <th></th>\n    </tr>\n  </thead>\n  <tbody>\n    <tr>\n      <th>1953</th>\n      <td>12</td>\n    </tr>\n    <tr>\n      <th>1954</th>\n      <td>15</td>\n    </tr>\n    <tr>\n      <th>1955</th>\n      <td>16</td>\n    </tr>\n    <tr>\n      <th>1956</th>\n      <td>15</td>\n    </tr>\n    <tr>\n      <th>1957</th>\n      <td>15</td>\n    </tr>\n  </tbody>\n</table>\n</div>"
     },
     "metadata": {},
     "execution_count": 11
    }
   ],
   "source": [
    "# Explore US disaster data and clean/add as necesary\n",
    "disaster_filtered_df = us_disaster_df[(us_disaster_df['year'] >= 1953) & (us_disaster_df['year'] <= 2015)]\n",
    "relevant_disasters = [\"Tornado\",\"Flood\",\"Fire\",\"Hurricane\",\"Severe Storm(s)\",\"Typhoon\",\"Drought\",\"Snow\",\"Severe Ice Storm\",\"Freezing\",\"Coastal Storm\",\"Mud/Landslide\",\"Tsunami\"]\n",
    "# Filtered relevante disaster types\n",
    "disaster_filtered_df  = disaster_filtered_df[(disaster_filtered_df.incident_type!= \"Other\") & (disaster_filtered_df.incident_type!= \"Earthquake\") & (disaster_filtered_df.incident_type!= \"Volcano\") & (disaster_filtered_df.incident_type!= \"Toxic Substances\") & (disaster_filtered_df.incident_type!= \"Dam/Levee Break\") & (disaster_filtered_df.incident_type!= \"Fishing Losses\") & (disaster_filtered_df.incident_type!= \"Human Cause\") & (disaster_filtered_df.incident_type!= \"Terrorist\") & (disaster_filtered_df.incident_type!= \"Chemical\") & (disaster_filtered_df.incident_type!= \"Biological\")]\n",
    "disasters_df = disaster_filtered_df.groupby(\"year\").count()\n",
    "disasters_df = disasters_df[['incident_type']]\n",
    "disasters_df.head()"
   ]
  },
  {
   "cell_type": "code",
   "execution_count": 12,
   "metadata": {},
   "outputs": [],
   "source": [
    "# Export to csv to be loaded in SQL database\n",
    "temp_df.to_csv(\"For SQL/temps.csv\")\n",
    "co2_df.to_csv(\"For SQL/co2.csv\")\n",
    "disasters_df.to_csv(\"For SQL/disasters.csv\")"
   ]
  },
  {
   "cell_type": "code",
   "execution_count": null,
   "metadata": {},
   "outputs": [],
   "source": []
  }
 ],
 "metadata": {
  "kernelspec": {
   "name": "Python 3.7.6 64-bit ('base': conda)",
   "display_name": "Python 3.7.6 64-bit ('base': conda)",
   "metadata": {
    "interpreter": {
     "hash": "b3ba2566441a7c06988d0923437866b63cedc61552a5af99d1f4fb67d367b25f"
    }
   }
  }
 },
 "nbformat": 4,
 "nbformat_minor": 4
}